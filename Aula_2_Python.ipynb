{
  "nbformat": 4,
  "nbformat_minor": 0,
  "metadata": {
    "colab": {
      "name": "Aula 2 - Python",
      "version": "0.3.2",
      "provenance": [],
      "include_colab_link": true
    },
    "kernelspec": {
      "name": "python3",
      "display_name": "Python 3"
    }
  },
  "cells": [
    {
      "cell_type": "markdown",
      "metadata": {
        "id": "view-in-github",
        "colab_type": "text"
      },
      "source": [
        "<a href=\"https://colab.research.google.com/github/mcamposg/aula-2---Python/blob/master/Aula_2_Python.ipynb\" target=\"_parent\"><img src=\"https://colab.research.google.com/assets/colab-badge.svg\" alt=\"Open In Colab\"/></a>"
      ]
    },
    {
      "metadata": {
        "id": "oEDJ_De9JoXM",
        "colab_type": "code",
        "outputId": "ce6488cf-b58d-43ed-f73e-bf1dba0c2c13",
        "colab": {
          "base_uri": "https://localhost:8080/",
          "height": 34
        }
      },
      "cell_type": "code",
      "source": [
        "lista = [2, 3, 10, 50]\n",
        "sum(lista)"
      ],
      "execution_count": 0,
      "outputs": [
        {
          "output_type": "execute_result",
          "data": {
            "text/plain": [
              "65"
            ]
          },
          "metadata": {
            "tags": []
          },
          "execution_count": 1
        }
      ]
    },
    {
      "metadata": {
        "id": "qM_ycLzqRxMI",
        "colab_type": "code",
        "outputId": "35979eb2-a7de-4bf3-d06b-59de79408e40",
        "colab": {
          "base_uri": "https://localhost:8080/",
          "height": 34
        }
      },
      "cell_type": "code",
      "source": [
        "10 in lista"
      ],
      "execution_count": 0,
      "outputs": [
        {
          "output_type": "execute_result",
          "data": {
            "text/plain": [
              "True"
            ]
          },
          "metadata": {
            "tags": []
          },
          "execution_count": 2
        }
      ]
    },
    {
      "metadata": {
        "id": "mKiy-C8vSFlk",
        "colab_type": "code",
        "outputId": "e556d934-f6cb-4c59-ce18-b3ecdd3c14d7",
        "colab": {
          "base_uri": "https://localhost:8080/",
          "height": 34
        }
      },
      "cell_type": "code",
      "source": [
        "achei10 = 10 in lista\n",
        "\n",
        "if (achei10):\n",
        "  print(\"Encontrei o 10\")\n",
        "else:\n",
        "  print(\"Não encontrei o 10\")"
      ],
      "execution_count": 0,
      "outputs": [
        {
          "output_type": "stream",
          "text": [
            "Encontrei o 10\n"
          ],
          "name": "stdout"
        }
      ]
    },
    {
      "metadata": {
        "id": "P7lWFWJGSyyy",
        "colab_type": "code",
        "outputId": "af5ac02c-1fe1-4598-de89-35f5cfba083c",
        "colab": {
          "base_uri": "https://localhost:8080/",
          "height": 34
        }
      },
      "cell_type": "code",
      "source": [
        "lista.index(50)"
      ],
      "execution_count": 0,
      "outputs": [
        {
          "output_type": "execute_result",
          "data": {
            "text/plain": [
              "3"
            ]
          },
          "metadata": {
            "tags": []
          },
          "execution_count": 4
        }
      ]
    },
    {
      "metadata": {
        "id": "E24jFR2gTREg",
        "colab_type": "code",
        "outputId": "77ed8c6d-1e27-43cf-b475-b30baa14f4c5",
        "colab": {
          "base_uri": "https://localhost:8080/",
          "height": 52
        }
      },
      "cell_type": "code",
      "source": [
        "v = 10\n",
        "try:\n",
        "  lista.index(0)\n",
        "except(ValueError):\n",
        "  print(\"O valor procurado não está na lista\")\n",
        "  \n",
        "print(\"olá\")"
      ],
      "execution_count": 0,
      "outputs": [
        {
          "output_type": "stream",
          "text": [
            "O valor procurado não está na lista\n",
            "olá\n"
          ],
          "name": "stdout"
        }
      ]
    },
    {
      "metadata": {
        "id": "MBSjwj6WVOMY",
        "colab_type": "code",
        "outputId": "86db92de-c594-4903-c72e-6a9faa6b88f4",
        "colab": {
          "base_uri": "https://localhost:8080/",
          "height": 34
        }
      },
      "cell_type": "code",
      "source": [
        "dicionario = {\"aluno 1\": 8.0, \"aluno 2\": 5.0}\n",
        "dicionario"
      ],
      "execution_count": 0,
      "outputs": [
        {
          "output_type": "execute_result",
          "data": {
            "text/plain": [
              "{'aluno 1': 8.0, 'aluno 2': 5.0}"
            ]
          },
          "metadata": {
            "tags": []
          },
          "execution_count": 8
        }
      ]
    },
    {
      "metadata": {
        "id": "mvRyi7wAYC8-",
        "colab_type": "code",
        "outputId": "6ce8e0c4-d03b-4c50-9759-6a163c0fdf56",
        "colab": {
          "base_uri": "https://localhost:8080/",
          "height": 34
        }
      },
      "cell_type": "code",
      "source": [
        "dicionario = {\"aluno 1\": {\"Cálculo\": 8.0, \"aluno 2\": 5.0}, \"aluno 2\": 5.0}\n",
        "dicionario\n"
      ],
      "execution_count": 0,
      "outputs": [
        {
          "output_type": "execute_result",
          "data": {
            "text/plain": [
              "{'aluno 1': {'Cálculo': 8.0, 'aluno 2': 5.0}, 'aluno 2': 5.0}"
            ]
          },
          "metadata": {
            "tags": []
          },
          "execution_count": 9
        }
      ]
    },
    {
      "metadata": {
        "id": "ZegYyYYiYwOM",
        "colab_type": "code",
        "outputId": "4e7578ce-b4e7-4767-85dc-4e1b55334f58",
        "colab": {
          "base_uri": "https://localhost:8080/",
          "height": 34
        }
      },
      "cell_type": "code",
      "source": [
        "dicionario [\"aluno 2\"]"
      ],
      "execution_count": 0,
      "outputs": [
        {
          "output_type": "execute_result",
          "data": {
            "text/plain": [
              "5.0"
            ]
          },
          "metadata": {
            "tags": []
          },
          "execution_count": 26
        }
      ]
    },
    {
      "metadata": {
        "id": "B5pMj_MHY6uK",
        "colab_type": "code",
        "outputId": "da86686d-ee64-47dc-f2cc-2b17742ec645",
        "colab": {
          "base_uri": "https://localhost:8080/",
          "height": 34
        }
      },
      "cell_type": "code",
      "source": [
        "boletin = {\n",
        "    \"João Pedro\": 2.0,\n",
        "    \"Paulo Roberto\": 3.0,\n",
        "    \"Clara Maria\": 4.0\n",
        "}\n",
        "\n",
        "try:\n",
        "  print(boletin[\"Pedro\"])\n",
        "except (KeyError):\n",
        "    print(\"Aluno não encontrado\")\n",
        "    \n",
        "    type(dicionario)"
      ],
      "execution_count": 0,
      "outputs": [
        {
          "output_type": "stream",
          "text": [
            "Aluno não encontrado\n"
          ],
          "name": "stdout"
        }
      ]
    },
    {
      "metadata": {
        "id": "Sk64nB2ZacHU",
        "colab_type": "code",
        "outputId": "c43178d0-cb3c-49cd-aaf3-6c1b2e4efbf7",
        "colab": {
          "base_uri": "https://localhost:8080/",
          "height": 34
        }
      },
      "cell_type": "code",
      "source": [
        "tupla = (1, 2)\n",
        "type(tupla)"
      ],
      "execution_count": 0,
      "outputs": [
        {
          "output_type": "execute_result",
          "data": {
            "text/plain": [
              "tuple"
            ]
          },
          "metadata": {
            "tags": []
          },
          "execution_count": 16
        }
      ]
    },
    {
      "metadata": {
        "id": "G3mn0O87bgSS",
        "colab_type": "code",
        "outputId": "f98c1dba-cc04-44df-bc3b-ed9f2e6ebe70",
        "colab": {
          "base_uri": "https://localhost:8080/",
          "height": 34
        }
      },
      "cell_type": "code",
      "source": [
        "lista"
      ],
      "execution_count": 0,
      "outputs": [
        {
          "output_type": "execute_result",
          "data": {
            "text/plain": [
              "[2, 3, 10, 50]"
            ]
          },
          "metadata": {
            "tags": []
          },
          "execution_count": 17
        }
      ]
    },
    {
      "metadata": {
        "id": "9abk4SVNbk1I",
        "colab_type": "code",
        "outputId": "e47ceaa4-c034-489b-fd49-dd7cda52e1e4",
        "colab": {
          "base_uri": "https://localhost:8080/",
          "height": 34
        }
      },
      "cell_type": "code",
      "source": [
        "conjunto = {1, 2, 3}\n",
        "conjunto"
      ],
      "execution_count": 0,
      "outputs": [
        {
          "output_type": "execute_result",
          "data": {
            "text/plain": [
              "{1, 2, 3}"
            ]
          },
          "metadata": {
            "tags": []
          },
          "execution_count": 18
        }
      ]
    },
    {
      "metadata": {
        "id": "7oWmoUAZbuKS",
        "colab_type": "code",
        "outputId": "aa1d58b2-9b02-4664-c128-1fa4c2b52ca6",
        "colab": {
          "base_uri": "https://localhost:8080/",
          "height": 34
        }
      },
      "cell_type": "code",
      "source": [
        "lista. append(3)\n",
        "lista. append(1)\n",
        "lista"
      ],
      "execution_count": 0,
      "outputs": [
        {
          "output_type": "execute_result",
          "data": {
            "text/plain": [
              "[2, 3, 10, 50, 3, 1]"
            ]
          },
          "metadata": {
            "tags": []
          },
          "execution_count": 19
        }
      ]
    },
    {
      "metadata": {
        "id": "z-659JcAcDxS",
        "colab_type": "code",
        "outputId": "84145770-ac4b-480f-e378-9eea6667ce0d",
        "colab": {
          "base_uri": "https://localhost:8080/",
          "height": 34
        }
      },
      "cell_type": "code",
      "source": [
        "conjunto2 = set(lista)\n",
        "conjunto2"
      ],
      "execution_count": 0,
      "outputs": [
        {
          "output_type": "execute_result",
          "data": {
            "text/plain": [
              "{1, 2, 3, 10, 50}"
            ]
          },
          "metadata": {
            "tags": []
          },
          "execution_count": 20
        }
      ]
    },
    {
      "metadata": {
        "id": "veXBMfKCcRbg",
        "colab_type": "code",
        "outputId": "21b2f59f-c335-43a8-fe01-59cfaef33b83",
        "colab": {
          "base_uri": "https://localhost:8080/",
          "height": 34
        }
      },
      "cell_type": "code",
      "source": [
        "0 in conjunto2"
      ],
      "execution_count": 0,
      "outputs": [
        {
          "output_type": "execute_result",
          "data": {
            "text/plain": [
              "False"
            ]
          },
          "metadata": {
            "tags": []
          },
          "execution_count": 21
        }
      ]
    },
    {
      "metadata": {
        "id": "_wmFNv7kclrg",
        "colab_type": "code",
        "colab": {}
      },
      "cell_type": "code",
      "source": [
        ""
      ],
      "execution_count": 0,
      "outputs": []
    }
  ]
}